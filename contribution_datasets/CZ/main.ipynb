{
 "cells": [
  {
   "cell_type": "code",
   "execution_count": 2,
   "metadata": {},
   "outputs": [],
   "source": [
    "from bs4 import BeautifulSoup as bs\n",
    "import requests\n",
    "import pandas as pd"
   ]
  },
  {
   "cell_type": "code",
   "execution_count": 22,
   "metadata": {},
   "outputs": [],
   "source": [
    "web = 'https://www.worldcryptoindex.com/creators/changpeng-zhao/'\n",
    "response = requests.get(web).text\n",
    "soup = bs(response,'lxml')"
   ]
  },
  {
   "cell_type": "code",
   "execution_count": 20,
   "metadata": {},
   "outputs": [],
   "source": [
    "blocks = soup.find_all('p')"
   ]
  },
  {
   "cell_type": "code",
   "execution_count": 24,
   "metadata": {},
   "outputs": [],
   "source": [
    "contents = []\n",
    "\n",
    "for content in blocks:\n",
    "    contents.append(content.text)"
   ]
  },
  {
   "cell_type": "code",
   "execution_count": 30,
   "metadata": {},
   "outputs": [],
   "source": [
    "joined_contents = ' '.join(contents)"
   ]
  },
  {
   "cell_type": "code",
   "execution_count": 40,
   "metadata": {},
   "outputs": [
    {
     "name": "stdout",
     "output_type": "stream",
     "text": [
      "31\n"
     ]
    }
   ],
   "source": [
    "sentence_endings = [\".\", \"!\", \"?\"]\n",
    "sentences = []\n",
    "\n",
    "start = 0\n",
    "for i, char in enumerate(joined_contents):\n",
    "    if char in sentence_endings:\n",
    "        # Include the punctuation mark with the sentence\n",
    "        sentences.append(joined_contents[start:i+1].strip())\n",
    "        start = i + 1  # Move past the punctuation mark\n",
    "\n",
    "#Group the sentences into chunks of 2\n",
    "chunks = [\" \".join(sentences[i:i+2]) for i in range(0, len(sentences), 2)]"
   ]
  },
  {
   "cell_type": "code",
   "execution_count": 41,
   "metadata": {},
   "outputs": [],
   "source": [
    "cz_keywords = [\n",
    "    \"Changpeng Zhao\", \n",
    "    \"CZ\", \n",
    "    \"Binance\", \n",
    "    \"BNB\", \n",
    "    \"cryptocurrency exchange\", \n",
    "    \"crypto trading\", \n",
    "    \"blockchain\", \n",
    "    \"DeFi\", \n",
    "    \"Binance Smart Chain\", \n",
    "    \"Binance Coin\", \n",
    "    \"crypto regulation\", \n",
    "    \"digital assets\", \n",
    "    \"crypto industry\", \n",
    "    \"Binance CEO\", \n",
    "    \"crypto entrepreneur\", \n",
    "    \"crypto exchange\", \n",
    "    \"blockchain technology\", \n",
    "    \"crypto market\", \n",
    "    \"cryptocurrency adoption\", \n",
    "    \"cryptocurrency innovation\"\n",
    "]\n"
   ]
  },
  {
   "cell_type": "code",
   "execution_count": 42,
   "metadata": {},
   "outputs": [],
   "source": [
    "def find_keywords(sentence, keywords):\n",
    "    return [keyword for keyword in keywords if keyword.lower() in sentence.lower()]"
   ]
  },
  {
   "cell_type": "code",
   "execution_count": 43,
   "metadata": {},
   "outputs": [],
   "source": [
    "data = []\n",
    "\n",
    "# Process each sentence\n",
    "for sentence in sentences:\n",
    "    found_keywords = find_keywords(sentence, cz_keywords)\n",
    "    data.append({\n",
    "        'content': sentence,\n",
    "        'keywords': ', '.join(found_keywords)\n",
    "    })"
   ]
  },
  {
   "cell_type": "code",
   "execution_count": 45,
   "metadata": {},
   "outputs": [],
   "source": [
    "# Create the DataFrame\n",
    "df = pd.DataFrame(data)\n",
    "\n",
    "df.to_csv('sentences_keywords.txt', sep='/t',index=False)"
   ]
  },
  {
   "cell_type": "code",
   "execution_count": null,
   "metadata": {},
   "outputs": [],
   "source": []
  }
 ],
 "metadata": {
  "kernelspec": {
   "display_name": "base",
   "language": "python",
   "name": "python3"
  },
  "language_info": {
   "codemirror_mode": {
    "name": "ipython",
    "version": 3
   },
   "file_extension": ".py",
   "mimetype": "text/x-python",
   "name": "python",
   "nbconvert_exporter": "python",
   "pygments_lexer": "ipython3",
   "version": "3.12.4"
  }
 },
 "nbformat": 4,
 "nbformat_minor": 2
}
